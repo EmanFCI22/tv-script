{
 "cells": [
  {
   "cell_type": "markdown",
   "metadata": {},
   "source": [
    "# TV Script Generation\n",
    "In this project, you'll generate your own [Simpsons](https://en.wikipedia.org/wiki/The_Simpsons) TV scripts using RNNs.  You'll be using part of the [Simpsons dataset](https://www.kaggle.com/wcukierski/the-simpsons-by-the-data) of scripts from 27 seasons.  The Neural Network you'll build will generate a new TV script for a scene at [Moe's Tavern](https://simpsonswiki.com/wiki/Moe's_Tavern).\n",
    "## Get the Data\n",
    "The data is already provided for you.  You'll be using a subset of the original dataset.  It consists of only the scenes in Moe's Tavern.  This doesn't include other versions of the tavern, like \"Moe's Cavern\", \"Flaming Moe's\", \"Uncle Moe's Family Feed-Bag\", etc.."
   ]
  },
  {
   "cell_type": "code",
   "execution_count": 1,
   "metadata": {
    "collapsed": true
   },
   "outputs": [],
   "source": [
    "\"\"\"\n",
    "DON'T MODIFY ANYTHING IN THIS CELL\n",
    "\"\"\"\n",
    "import helper\n",
    "\n",
    "data_dir = './data/simpsons/moes_tavern_lines.txt'\n",
    "text = helper.load_data(data_dir)\n",
    "# Ignore notice, since we don't use it for analysing the data\n",
    "text = text[81:]"
   ]
  },
  {
   "cell_type": "markdown",
   "metadata": {},
   "source": [
    "## Explore the Data\n",
    "Play around with `view_sentence_range` to view different parts of the data."
   ]
  },
  {
   "cell_type": "code",
   "execution_count": 2,
   "metadata": {
    "collapsed": false
   },
   "outputs": [
    {
     "name": "stdout",
     "output_type": "stream",
     "text": [
      "Dataset Stats\n",
      "Roughly the number of unique words: 11492\n",
      "Number of scenes: 262\n",
      "Average number of sentences in each scene: 15.248091603053435\n",
      "Number of lines: 4257\n",
      "Average number of words in each line: 11.50434578341555\n",
      "\n",
      "The sentences 0 to 10:\n",
      "Moe_Szyslak: (INTO PHONE) Moe's Tavern. Where the elite meet to drink.\n",
      "Bart_Simpson: Eh, yeah, hello, is Mike there? Last name, Rotch.\n",
      "Moe_Szyslak: (INTO PHONE) Hold on, I'll check. (TO BARFLIES) Mike Rotch. Mike Rotch. Hey, has anybody seen Mike Rotch, lately?\n",
      "Moe_Szyslak: (INTO PHONE) Listen you little puke. One of these days I'm gonna catch you, and I'm gonna carve my name on your back with an ice pick.\n",
      "Moe_Szyslak: What's the matter Homer? You're not your normal effervescent self.\n",
      "Homer_Simpson: I got my problems, Moe. Give me another one.\n",
      "Moe_Szyslak: Homer, hey, you should not drink to forget your problems.\n",
      "Barney_Gumble: Yeah, you should only drink to enhance your social skills.\n",
      "\n",
      "\n"
     ]
    }
   ],
   "source": [
    "view_sentence_range = (0, 10)\n",
    "\n",
    "\"\"\"\n",
    "DON'T MODIFY ANYTHING IN THIS CELL\n",
    "\"\"\"\n",
    "import numpy as np\n",
    "\n",
    "print('Dataset Stats')\n",
    "print('Roughly the number of unique words: {}'.format(len({word: None for word in text.split()})))\n",
    "scenes = text.split('\\n\\n')\n",
    "print('Number of scenes: {}'.format(len(scenes)))\n",
    "sentence_count_scene = [scene.count('\\n') for scene in scenes]\n",
    "print('Average number of sentences in each scene: {}'.format(np.average(sentence_count_scene)))\n",
    "\n",
    "sentences = [sentence for scene in scenes for sentence in scene.split('\\n')]\n",
    "print('Number of lines: {}'.format(len(sentences)))\n",
    "word_count_sentence = [len(sentence.split()) for sentence in sentences]\n",
    "print('Average number of words in each line: {}'.format(np.average(word_count_sentence)))\n",
    "\n",
    "print()\n",
    "print('The sentences {} to {}:'.format(*view_sentence_range))\n",
    "print('\\n'.join(text.split('\\n')[view_sentence_range[0]:view_sentence_range[1]]))"
   ]
  },
  {
   "cell_type": "markdown",
   "metadata": {},
   "source": [
    "## Implement Preprocessing Functions\n",
    "The first thing to do to any dataset is preprocessing.  Implement the following preprocessing functions below:\n",
    "- Lookup Table\n",
    "- Tokenize Punctuation\n",
    "\n",
    "### Lookup Table\n",
    "To create a word embedding, you first need to transform the words to ids.  In this function, create two dictionaries:\n",
    "- Dictionary to go from the words to an id, we'll call `vocab_to_int`\n",
    "- Dictionary to go from the id to word, we'll call `int_to_vocab`\n",
    "\n",
    "Return these dictionaries in the following tuple `(vocab_to_int, int_to_vocab)`"
   ]
  },
  {
   "cell_type": "code",
   "execution_count": 3,
   "metadata": {
    "collapsed": false
   },
   "outputs": [
    {
     "name": "stdout",
     "output_type": "stream",
     "text": [
      "Tests Passed\n"
     ]
    }
   ],
   "source": [
    "import numpy as np\n",
    "import problem_unittests as tests\n",
    "from collections import Counter\n",
    "def create_lookup_tables(text):\n",
    "    \"\"\"\n",
    "    Create lookup tables for vocabulary\n",
    "    :param text: The text of tv scripts split into words\n",
    "    :return: A tuple of dicts (vocab_to_int, int_to_vocab)\n",
    "    \"\"\"\n",
    "    count=Counter(text)\n",
    "    sorted_words=sorted(count,key=count.get,reverse=True)\n",
    "    vocab_to_int={word:idx for idx,word in enumerate(sorted_words)}\n",
    "    int_to_vocab={idx:word for idx,word in enumerate(sorted_words)}\n",
    "    # TODO: Implement Function\n",
    "    return (vocab_to_int, int_to_vocab)\n",
    "\n",
    "\n",
    "\"\"\"\n",
    "DON'T MODIFY ANYTHING IN THIS CELL THAT IS BELOW THIS LINE\n",
    "\"\"\"\n",
    "tests.test_create_lookup_tables(create_lookup_tables)"
   ]
  },
  {
   "cell_type": "markdown",
   "metadata": {},
   "source": [
    "### Tokenize Punctuation\n",
    "We'll be splitting the script into a word array using spaces as delimiters.  However, punctuations like periods and exclamation marks make it hard for the neural network to distinguish between the word \"bye\" and \"bye!\".\n",
    "\n",
    "Implement the function `token_lookup` to return a dict that will be used to tokenize symbols like \"!\" into \"||Exclamation_Mark||\".  Create a dictionary for the following symbols where the symbol is the key and value is the token:\n",
    "- Period ( . )\n",
    "- Comma ( , )\n",
    "- Quotation Mark ( \" )\n",
    "- Semicolon ( ; )\n",
    "- Exclamation mark ( ! )\n",
    "- Question mark ( ? )\n",
    "- Left Parentheses ( ( )\n",
    "- Right Parentheses ( ) )\n",
    "- Dash ( -- )\n",
    "- Return ( \\n )\n",
    "\n",
    "This dictionary will be used to token the symbols and add the delimiter (space) around it.  This separates the symbols as it's own word, making it easier for the neural network to predict on the next word. Make sure you don't use a token that could be confused as a word. Instead of using the token \"dash\", try using something like \"||dash||\"."
   ]
  },
  {
   "cell_type": "code",
   "execution_count": 4,
   "metadata": {
    "collapsed": false
   },
   "outputs": [
    {
     "name": "stdout",
     "output_type": "stream",
     "text": [
      "Tests Passed\n"
     ]
    }
   ],
   "source": [
    "def token_lookup():\n",
    "    \"\"\"\n",
    "    Generate a dict to turn punctuation into a token.\n",
    "    :return: Tokenize dictionary where the key is the punctuation and the value is the token\n",
    "    \"\"\"\n",
    "    dict={}\n",
    "    dict[\".\"]=\"Period\"\n",
    "    dict[\",\"]=\"Comma\"\n",
    "    dict[\"\\\"\"]=\"Quotation_Mark\"\n",
    "    dict[\";\"]=\"Semicolon\"\n",
    "    dict[\"!\"]=\"Exclamation_mark\"\n",
    "    dict[\"?\"]=\"Question_mark\"\n",
    "    dict[\"(\"]=\"Left_Parentheses\"\n",
    "    dict[\")\"]=\"Right_Parentheses\"\n",
    "    dict[\"--\"]=\"Dash\"\n",
    "    dict[\"\\n\"]=\"Return\"\n",
    "    # TODO: Implement Function\n",
    "    return dict\n",
    "\n",
    "\"\"\"\n",
    "DON'T MODIFY ANYTHING IN THIS CELL THAT IS BELOW THIS LINE\n",
    "\"\"\"\n",
    "tests.test_tokenize(token_lookup)"
   ]
  },
  {
   "cell_type": "markdown",
   "metadata": {},
   "source": [
    "## Preprocess all the data and save it\n",
    "Running the code cell below will preprocess all the data and save it to file."
   ]
  },
  {
   "cell_type": "code",
   "execution_count": 5,
   "metadata": {
    "collapsed": true
   },
   "outputs": [],
   "source": [
    "\"\"\"\n",
    "DON'T MODIFY ANYTHING IN THIS CELL\n",
    "\"\"\"\n",
    "# Preprocess Training, Validation, and Testing Data\n",
    "helper.preprocess_and_save_data(data_dir, token_lookup, create_lookup_tables)"
   ]
  },
  {
   "cell_type": "markdown",
   "metadata": {},
   "source": [
    "# Check Point\n",
    "This is your first checkpoint. If you ever decide to come back to this notebook or have to restart the notebook, you can start from here. The preprocessed data has been saved to disk."
   ]
  },
  {
   "cell_type": "code",
   "execution_count": 6,
   "metadata": {
    "collapsed": true
   },
   "outputs": [],
   "source": [
    "\"\"\"\n",
    "DON'T MODIFY ANYTHING IN THIS CELL\n",
    "\"\"\"\n",
    "import helper\n",
    "import numpy as np\n",
    "import problem_unittests as tests\n",
    "\n",
    "int_text, vocab_to_int, int_to_vocab, token_dict = helper.load_preprocess()"
   ]
  },
  {
   "cell_type": "markdown",
   "metadata": {},
   "source": [
    "## Build the Neural Network\n",
    "You'll build the components necessary to build a RNN by implementing the following functions below:\n",
    "- get_inputs\n",
    "- get_init_cell\n",
    "- get_embed\n",
    "- build_rnn\n",
    "- build_nn\n",
    "- get_batches\n",
    "\n",
    "### Check the Version of TensorFlow and Access to GPU"
   ]
  },
  {
   "cell_type": "code",
   "execution_count": 7,
   "metadata": {
    "collapsed": false
   },
   "outputs": [
    {
     "name": "stdout",
     "output_type": "stream",
     "text": [
      "TensorFlow Version: 1.1.0\n",
      "Default GPU Device: /gpu:0\n"
     ]
    }
   ],
   "source": [
    "\"\"\"\n",
    "DON'T MODIFY ANYTHING IN THIS CELL\n",
    "\"\"\"\n",
    "from distutils.version import LooseVersion\n",
    "import warnings\n",
    "import tensorflow as tf\n",
    "\n",
    "# Check TensorFlow Version\n",
    "assert LooseVersion(tf.__version__) >= LooseVersion('1.0'), 'Please use TensorFlow version 1.0 or newer'\n",
    "print('TensorFlow Version: {}'.format(tf.__version__))\n",
    "\n",
    "# Check for a GPU\n",
    "if not tf.test.gpu_device_name():\n",
    "    warnings.warn('No GPU found. Please use a GPU to train your neural network.')\n",
    "else:\n",
    "    print('Default GPU Device: {}'.format(tf.test.gpu_device_name()))"
   ]
  },
  {
   "cell_type": "markdown",
   "metadata": {},
   "source": [
    "### Input\n",
    "Implement the `get_inputs()` function to create TF Placeholders for the Neural Network.  It should create the following placeholders:\n",
    "- Input text placeholder named \"input\" using the [TF Placeholder](https://www.tensorflow.org/api_docs/python/tf/placeholder) `name` parameter.\n",
    "- Targets placeholder\n",
    "- Learning Rate placeholder\n",
    "\n",
    "Return the placeholders in the following tuple `(Input, Targets, LearningRate)`"
   ]
  },
  {
   "cell_type": "code",
   "execution_count": 8,
   "metadata": {
    "collapsed": false
   },
   "outputs": [
    {
     "name": "stdout",
     "output_type": "stream",
     "text": [
      "Tests Passed\n"
     ]
    }
   ],
   "source": [
    "def get_inputs():\n",
    "    \"\"\"\n",
    "    Create TF Placeholders for input, targets, and learning rate.\n",
    "    :return: Tuple (input, targets, learning rate)\n",
    "    \"\"\"\n",
    "    inputs=tf.placeholder(tf.int32, [None, None],name='input')\n",
    "    targets=tf.placeholder(tf.int32,[None,None],name=\"target\")\n",
    "    learing_rate=tf.placeholder(tf.float32, name='learning_rate')\n",
    "    # TODO: Implement Function\n",
    "    return inputs, targets, learing_rate\n",
    "\n",
    "\n",
    "\"\"\"\n",
    "DON'T MODIFY ANYTHING IN THIS CELL THAT IS BELOW THIS LINE\n",
    "\"\"\"\n",
    "tests.test_get_inputs(get_inputs)"
   ]
  },
  {
   "cell_type": "markdown",
   "metadata": {},
   "source": [
    "### Build RNN Cell and Initialize\n",
    "Stack one or more [`BasicLSTMCells`](https://www.tensorflow.org/api_docs/python/tf/contrib/rnn/BasicLSTMCell) in a [`MultiRNNCell`](https://www.tensorflow.org/api_docs/python/tf/contrib/rnn/MultiRNNCell).\n",
    "- The Rnn size should be set using `rnn_size`\n",
    "- Initalize Cell State using the MultiRNNCell's [`zero_state()`](https://www.tensorflow.org/api_docs/python/tf/contrib/rnn/MultiRNNCell#zero_state) function\n",
    "    - Apply the name \"initial_state\" to the initial state using [`tf.identity()`](https://www.tensorflow.org/api_docs/python/tf/identity)\n",
    "\n",
    "Return the cell and initial state in the following tuple `(Cell, InitialState)`"
   ]
  },
  {
   "cell_type": "code",
   "execution_count": 9,
   "metadata": {
    "collapsed": false
   },
   "outputs": [
    {
     "name": "stdout",
     "output_type": "stream",
     "text": [
      "Tests Passed\n"
     ]
    }
   ],
   "source": [
    "def get_init_cell(batch_size, rnn_size):\n",
    "    \"\"\"\n",
    "    Create an RNN Cell and initialize it.\n",
    "    :param batch_size: Size of batches\n",
    "    :param rnn_size: Size of RNNs\n",
    "    :return: Tuple (cell, initialize state)\n",
    "    \"\"\"\n",
    "    cell = tf.contrib.rnn.BasicLSTMCell(rnn_size)\n",
    "    cell=tf.contrib.rnn.MultiRNNCell([cell])\n",
    "    initial_state = tf.identity(cell.zero_state(batch_size, tf.float32),name=\"initial_state\")\n",
    "    # TODO: Implement Function\n",
    "    return (cell,initial_state)\n",
    "\n",
    "\n",
    "\"\"\"\n",
    "DON'T MODIFY ANYTHING IN THIS CELL THAT IS BELOW THIS LINE\n",
    "\"\"\"\n",
    "tests.test_get_init_cell(get_init_cell)"
   ]
  },
  {
   "cell_type": "markdown",
   "metadata": {},
   "source": [
    "### Word Embedding\n",
    "Apply embedding to `input_data` using TensorFlow.  Return the embedded sequence."
   ]
  },
  {
   "cell_type": "code",
   "execution_count": 10,
   "metadata": {
    "collapsed": false
   },
   "outputs": [
    {
     "name": "stdout",
     "output_type": "stream",
     "text": [
      "Tests Passed\n"
     ]
    }
   ],
   "source": [
    "def get_embed(input_data, vocab_size, embed_dim):\n",
    "    \"\"\"\n",
    "    Create embedding for <input_data>.\n",
    "    :param input_data: TF placeholder for text input.\n",
    "    :param vocab_size: Number of words in vocabulary.\n",
    "    :param embed_dim: Number of embedding dimensions\n",
    "    :return: Embedded input.\n",
    "    \"\"\"\n",
    "    embedding = tf.Variable(tf.random_uniform((vocab_size, embed_dim), -1, 1))\n",
    "    embed = tf.nn.embedding_lookup(embedding, input_data)\n",
    "    # TODO: Implement Function\n",
    "    return embed\n",
    "\n",
    "\"\"\"\n",
    "DON'T MODIFY ANYTHING IN THIS CELL THAT IS BELOW THIS LINE\n",
    "\"\"\"\n",
    "tests.test_get_embed(get_embed)"
   ]
  },
  {
   "cell_type": "markdown",
   "metadata": {},
   "source": [
    "### Build RNN\n",
    "You created a RNN Cell in the `get_init_cell()` function.  Time to use the cell to create a RNN.\n",
    "- Build the RNN using the [`tf.nn.dynamic_rnn()`](https://www.tensorflow.org/api_docs/python/tf/nn/dynamic_rnn)\n",
    " - Apply the name \"final_state\" to the final state using [`tf.identity()`](https://www.tensorflow.org/api_docs/python/tf/identity)\n",
    "\n",
    "Return the outputs and final_state state in the following tuple `(Outputs, FinalState)` "
   ]
  },
  {
   "cell_type": "code",
   "execution_count": 11,
   "metadata": {
    "collapsed": false
   },
   "outputs": [
    {
     "name": "stdout",
     "output_type": "stream",
     "text": [
      "Tests Passed\n"
     ]
    }
   ],
   "source": [
    "def build_rnn(cell, inputs):\n",
    "    \"\"\"\n",
    "    Create a RNN using a RNN Cell\n",
    "    :param cell: RNN Cell\n",
    "    :param inputs: Input text data\n",
    "    :return: Tuple (Outputs, Final State)\n",
    "    \"\"\"\n",
    "    outputs, final_state = tf.nn.dynamic_rnn(cell, inputs, dtype=tf.float32) # dtype is must in this scope \n",
    "    final_state = tf.identity(final_state, name=\"final_state\")\n",
    "\n",
    "    # TODO: Implement Function\n",
    "    return outputs, final_state\n",
    "\n",
    "\n",
    "\"\"\"\n",
    "DON'T MODIFY ANYTHING IN THIS CELL THAT IS BELOW THIS LINE\n",
    "\"\"\"\n",
    "tests.test_build_rnn(build_rnn)"
   ]
  },
  {
   "cell_type": "markdown",
   "metadata": {},
   "source": [
    "### Build the Neural Network\n",
    "Apply the functions you implemented above to:\n",
    "- Apply embedding to `input_data` using your `get_embed(input_data, vocab_size, embed_dim)` function.\n",
    "- Build RNN using `cell` and your `build_rnn(cell, inputs)` function.\n",
    "- Apply a fully connected layer with a linear activation and `vocab_size` as the number of outputs.\n",
    "\n",
    "Return the logits and final state in the following tuple (Logits, FinalState) "
   ]
  },
  {
   "cell_type": "code",
   "execution_count": 12,
   "metadata": {
    "collapsed": false
   },
   "outputs": [
    {
     "name": "stdout",
     "output_type": "stream",
     "text": [
      "Tests Passed\n"
     ]
    }
   ],
   "source": [
    "def build_nn(cell, rnn_size, input_data, vocab_size, embed_dim):\n",
    "    \"\"\"\n",
    "    Build part of the neural network\n",
    "    :param cell: RNN cell\n",
    "    :param rnn_size: Size of rnns\n",
    "    :param input_data: Input data\n",
    "    :param vocab_size: Vocabulary size\n",
    "    :param embed_dim: Number of embedding dimensions\n",
    "    :return: Tuple (Logits, FinalState)\n",
    "    \"\"\"\n",
    "    embed=get_embed(input_data, vocab_size, embed_dim)\n",
    "    outputs,final_state=build_rnn(cell, embed)\n",
    "    logits=tf.contrib.layers.fully_connected(outputs, vocab_size, activation_fn=None)\n",
    "    \n",
    "    \n",
    "    # TODO: Implement Function\n",
    "    return logits, final_state\n",
    "\n",
    "\n",
    "\"\"\"\n",
    "DON'T MODIFY ANYTHING IN THIS CELL THAT IS BELOW THIS LINE\n",
    "\"\"\"\n",
    "tests.test_build_nn(build_nn)"
   ]
  },
  {
   "cell_type": "markdown",
   "metadata": {},
   "source": [
    "### Batches\n",
    "Implement `get_batches` to create batches of input and targets using `int_text`.  The batches should be a Numpy array with the shape `(number of batches, 2, batch size, sequence length)`. Each batch contains two elements:\n",
    "- The first element is a single batch of **input** with the shape `[batch size, sequence length]`\n",
    "- The second element is a single batch of **targets** with the shape `[batch size, sequence length]`\n",
    "\n",
    "If you can't fill the last batch with enough data, drop the last batch.\n",
    "\n",
    "For example, `get_batches([1, 2, 3, 4, 5, 6, 7, 8, 9, 10, 11, 12, 13, 14, 15, 16, 17, 18, 19, 20], 3, 2)` would return a Numpy array of the following:\n",
    "```\n",
    "[\n",
    "  # First Batch\n",
    "  [\n",
    "    # Batch of Input\n",
    "    [[ 1  2], [ 7  8], [13 14]]\n",
    "    # Batch of targets\n",
    "    [[ 2  3], [ 8  9], [14 15]]\n",
    "  ]\n",
    "\n",
    "  # Second Batch\n",
    "  [\n",
    "    # Batch of Input\n",
    "    [[ 3  4], [ 9 10], [15 16]]\n",
    "    # Batch of targets\n",
    "    [[ 4  5], [10 11], [16 17]]\n",
    "  ]\n",
    "\n",
    "  # Third Batch\n",
    "  [\n",
    "    # Batch of Input\n",
    "    [[ 5  6], [11 12], [17 18]]\n",
    "    # Batch of targets\n",
    "    [[ 6  7], [12 13], [18  1]]\n",
    "  ]\n",
    "]\n",
    "```\n",
    "\n",
    "Notice that the last target value in the last batch is the first input value of the first batch. In this case, `1`. This is a common technique used when creating sequence batches, although it is rather unintuitive."
   ]
  },
  {
   "cell_type": "code",
   "execution_count": 13,
   "metadata": {
    "collapsed": false
   },
   "outputs": [
    {
     "name": "stdout",
     "output_type": "stream",
     "text": [
      "Tests Passed\n"
     ]
    }
   ],
   "source": [
    "def get_batches(int_text, batch_size, seq_length):\n",
    "    \"\"\"\n",
    "    Return batches of input and target\n",
    "    :param int_text: Text with the words replaced by their ids\n",
    "    :param batch_size: The size of batch\n",
    "    :param seq_length: The length of sequence\n",
    "    :return: Batches as a Numpy array\n",
    "    \"\"\"\n",
    "    batches_number=len(int_text)//(batch_size*seq_length)\n",
    "    int_text=int_text[:(batches_number*batch_size*seq_length)]\n",
    "    batches=np.zeros((batches_number,2,batch_size,seq_length))\n",
    "    for batche in range(0,batches_number):\n",
    "        for i in range (0,2):\n",
    "            for mini_batch in range(0,batch_size):\n",
    "                idx=(mini_batch*seq_length*batches_number)+(batche*seq_length)+i\n",
    "                if batche==(batches_number-1) and i==1 and mini_batch==(batch_size-1):\n",
    "                    batches[batche,i,mini_batch,:(seq_length-1)]=int_text[idx:(idx+seq_length-1)]\n",
    "                    batches[batche,i,mini_batch,(seq_length-1)]=int_text[0]\n",
    "                else :\n",
    "                    batches[batche,i,mini_batch,:]=int_text[idx:(idx+seq_length)]\n",
    "                    \n",
    "    # TODO: Implement Function\n",
    "    return batches\n",
    "\n",
    "\n",
    "\"\"\"\n",
    "DON'T MODIFY ANYTHING IN THIS CELL THAT IS BELOW THIS LINE\n",
    "\"\"\"\n",
    "tests.test_get_batches(get_batches)"
   ]
  },
  {
   "cell_type": "markdown",
   "metadata": {},
   "source": [
    "## Neural Network Training\n",
    "### Hyperparameters\n",
    "Tune the following parameters:\n",
    "\n",
    "- Set `num_epochs` to the number of epochs.\n",
    "- Set `batch_size` to the batch size.\n",
    "- Set `rnn_size` to the size of the RNNs.\n",
    "- Set `embed_dim` to the size of the embedding.\n",
    "- Set `seq_length` to the length of sequence.\n",
    "- Set `learning_rate` to the learning rate.\n",
    "- Set `show_every_n_batches` to the number of batches the neural network should print progress."
   ]
  },
  {
   "cell_type": "code",
   "execution_count": 14,
   "metadata": {
    "collapsed": true
   },
   "outputs": [],
   "source": [
    "# Number of Epochs\n",
    "num_epochs = 100\n",
    "# Batch Size\n",
    "batch_size = 128\n",
    "# RNN Size\n",
    "rnn_size = 256\n",
    "# Embedding Dimension Size\n",
    "embed_dim = 300\n",
    "# Sequence Length\n",
    "seq_length = 10\n",
    "# Learning Rate\n",
    "learning_rate = 0.001\n",
    "# Show stats for every n number of batches\n",
    "show_every_n_batches = 20\n",
    "\n",
    "\"\"\"\n",
    "DON'T MODIFY ANYTHING IN THIS CELL THAT IS BELOW THIS LINE\n",
    "\"\"\"\n",
    "save_dir = './save'"
   ]
  },
  {
   "cell_type": "markdown",
   "metadata": {},
   "source": [
    "### Build the Graph\n",
    "Build the graph using the neural network you implemented."
   ]
  },
  {
   "cell_type": "code",
   "execution_count": 15,
   "metadata": {
    "collapsed": true
   },
   "outputs": [],
   "source": [
    "\"\"\"\n",
    "DON'T MODIFY ANYTHING IN THIS CELL\n",
    "\"\"\"\n",
    "from tensorflow.contrib import seq2seq\n",
    "train_graph = tf.Graph()\n",
    "with train_graph.as_default():\n",
    "    vocab_size = len(int_to_vocab)\n",
    "    input_text, targets, lr = get_inputs()\n",
    "    input_data_shape = tf.shape(input_text)\n",
    "    cell, initial_state = get_init_cell(input_data_shape[0], rnn_size)\n",
    "    logits, final_state = build_nn(cell, rnn_size, input_text, vocab_size, embed_dim)\n",
    "\n",
    "    # Probabilities for generating words\n",
    "    probs = tf.nn.softmax(logits, name='probs')\n",
    "\n",
    "    # Loss function\n",
    "    cost = seq2seq.sequence_loss(\n",
    "        logits,\n",
    "        targets,\n",
    "        tf.ones([input_data_shape[0], input_data_shape[1]]))\n",
    "\n",
    "    # Optimizer\n",
    "    optimizer = tf.train.AdamOptimizer(lr)\n",
    "\n",
    "    # Gradient Clipping\n",
    "    gradients = optimizer.compute_gradients(cost)\n",
    "    capped_gradients = [(tf.clip_by_value(grad, -1., 1.), var) for grad, var in gradients if grad is not None]\n",
    "    train_op = optimizer.apply_gradients(capped_gradients)"
   ]
  },
  {
   "cell_type": "markdown",
   "metadata": {},
   "source": [
    "## Train\n",
    "Train the neural network on the preprocessed data.  If you have a hard time getting a good loss, check the [forums](https://discussions.udacity.com/) to see if anyone is having the same problem."
   ]
  },
  {
   "cell_type": "code",
   "execution_count": 16,
   "metadata": {
    "collapsed": false
   },
   "outputs": [
    {
     "name": "stdout",
     "output_type": "stream",
     "text": [
      "Epoch   0 Batch    0/53   train_loss = 8.822\n",
      "Epoch   0 Batch   20/53   train_loss = 6.700\n",
      "Epoch   0 Batch   40/53   train_loss = 6.464\n",
      "Epoch   1 Batch    7/53   train_loss = 6.142\n",
      "Epoch   1 Batch   27/53   train_loss = 5.842\n",
      "Epoch   1 Batch   47/53   train_loss = 5.609\n",
      "Epoch   2 Batch   14/53   train_loss = 5.548\n",
      "Epoch   2 Batch   34/53   train_loss = 5.445\n",
      "Epoch   3 Batch    1/53   train_loss = 5.325\n",
      "Epoch   3 Batch   21/53   train_loss = 5.424\n",
      "Epoch   3 Batch   41/53   train_loss = 5.072\n",
      "Epoch   4 Batch    8/53   train_loss = 4.995\n",
      "Epoch   4 Batch   28/53   train_loss = 4.892\n",
      "Epoch   4 Batch   48/53   train_loss = 5.033\n",
      "Epoch   5 Batch   15/53   train_loss = 4.966\n",
      "Epoch   5 Batch   35/53   train_loss = 4.840\n",
      "Epoch   6 Batch    2/53   train_loss = 4.682\n",
      "Epoch   6 Batch   22/53   train_loss = 4.646\n",
      "Epoch   6 Batch   42/53   train_loss = 4.631\n",
      "Epoch   7 Batch    9/53   train_loss = 4.769\n",
      "Epoch   7 Batch   29/53   train_loss = 4.697\n",
      "Epoch   7 Batch   49/53   train_loss = 4.497\n",
      "Epoch   8 Batch   16/53   train_loss = 4.471\n",
      "Epoch   8 Batch   36/53   train_loss = 4.357\n",
      "Epoch   9 Batch    3/53   train_loss = 4.302\n",
      "Epoch   9 Batch   23/53   train_loss = 4.544\n",
      "Epoch   9 Batch   43/53   train_loss = 4.238\n",
      "Epoch  10 Batch   10/53   train_loss = 4.288\n",
      "Epoch  10 Batch   30/53   train_loss = 4.407\n",
      "Epoch  10 Batch   50/53   train_loss = 4.290\n",
      "Epoch  11 Batch   17/53   train_loss = 4.241\n",
      "Epoch  11 Batch   37/53   train_loss = 4.143\n",
      "Epoch  12 Batch    4/53   train_loss = 4.124\n",
      "Epoch  12 Batch   24/53   train_loss = 4.155\n",
      "Epoch  12 Batch   44/53   train_loss = 4.083\n",
      "Epoch  13 Batch   11/53   train_loss = 3.961\n",
      "Epoch  13 Batch   31/53   train_loss = 3.963\n",
      "Epoch  13 Batch   51/53   train_loss = 4.025\n",
      "Epoch  14 Batch   18/53   train_loss = 3.996\n",
      "Epoch  14 Batch   38/53   train_loss = 3.852\n",
      "Epoch  15 Batch    5/53   train_loss = 3.885\n",
      "Epoch  15 Batch   25/53   train_loss = 3.972\n",
      "Epoch  15 Batch   45/53   train_loss = 3.722\n",
      "Epoch  16 Batch   12/53   train_loss = 3.734\n",
      "Epoch  16 Batch   32/53   train_loss = 3.769\n",
      "Epoch  16 Batch   52/53   train_loss = 3.751\n",
      "Epoch  17 Batch   19/53   train_loss = 3.658\n",
      "Epoch  17 Batch   39/53   train_loss = 3.688\n",
      "Epoch  18 Batch    6/53   train_loss = 3.590\n",
      "Epoch  18 Batch   26/53   train_loss = 3.791\n",
      "Epoch  18 Batch   46/53   train_loss = 3.595\n",
      "Epoch  19 Batch   13/53   train_loss = 3.631\n",
      "Epoch  19 Batch   33/53   train_loss = 3.585\n",
      "Epoch  20 Batch    0/53   train_loss = 3.613\n",
      "Epoch  20 Batch   20/53   train_loss = 3.603\n",
      "Epoch  20 Batch   40/53   train_loss = 3.561\n",
      "Epoch  21 Batch    7/53   train_loss = 3.550\n",
      "Epoch  21 Batch   27/53   train_loss = 3.487\n",
      "Epoch  21 Batch   47/53   train_loss = 3.409\n",
      "Epoch  22 Batch   14/53   train_loss = 3.367\n",
      "Epoch  22 Batch   34/53   train_loss = 3.390\n",
      "Epoch  23 Batch    1/53   train_loss = 3.296\n",
      "Epoch  23 Batch   21/53   train_loss = 3.353\n",
      "Epoch  23 Batch   41/53   train_loss = 3.280\n",
      "Epoch  24 Batch    8/53   train_loss = 3.222\n",
      "Epoch  24 Batch   28/53   train_loss = 3.169\n",
      "Epoch  24 Batch   48/53   train_loss = 3.219\n",
      "Epoch  25 Batch   15/53   train_loss = 3.297\n",
      "Epoch  25 Batch   35/53   train_loss = 3.197\n",
      "Epoch  26 Batch    2/53   train_loss = 3.152\n",
      "Epoch  26 Batch   22/53   train_loss = 3.134\n",
      "Epoch  26 Batch   42/53   train_loss = 3.049\n",
      "Epoch  27 Batch    9/53   train_loss = 3.117\n",
      "Epoch  27 Batch   29/53   train_loss = 3.087\n",
      "Epoch  27 Batch   49/53   train_loss = 3.082\n",
      "Epoch  28 Batch   16/53   train_loss = 3.001\n",
      "Epoch  28 Batch   36/53   train_loss = 3.017\n",
      "Epoch  29 Batch    3/53   train_loss = 2.935\n",
      "Epoch  29 Batch   23/53   train_loss = 3.052\n",
      "Epoch  29 Batch   43/53   train_loss = 2.908\n",
      "Epoch  30 Batch   10/53   train_loss = 2.843\n",
      "Epoch  30 Batch   30/53   train_loss = 2.942\n",
      "Epoch  30 Batch   50/53   train_loss = 2.950\n",
      "Epoch  31 Batch   17/53   train_loss = 2.786\n",
      "Epoch  31 Batch   37/53   train_loss = 2.865\n",
      "Epoch  32 Batch    4/53   train_loss = 2.815\n",
      "Epoch  32 Batch   24/53   train_loss = 2.727\n",
      "Epoch  32 Batch   44/53   train_loss = 2.822\n",
      "Epoch  33 Batch   11/53   train_loss = 2.738\n",
      "Epoch  33 Batch   31/53   train_loss = 2.709\n",
      "Epoch  33 Batch   51/53   train_loss = 2.711\n",
      "Epoch  34 Batch   18/53   train_loss = 2.677\n",
      "Epoch  34 Batch   38/53   train_loss = 2.674\n",
      "Epoch  35 Batch    5/53   train_loss = 2.672\n",
      "Epoch  35 Batch   25/53   train_loss = 2.699\n",
      "Epoch  35 Batch   45/53   train_loss = 2.618\n",
      "Epoch  36 Batch   12/53   train_loss = 2.566\n",
      "Epoch  36 Batch   32/53   train_loss = 2.543\n",
      "Epoch  36 Batch   52/53   train_loss = 2.669\n",
      "Epoch  37 Batch   19/53   train_loss = 2.578\n",
      "Epoch  37 Batch   39/53   train_loss = 2.501\n",
      "Epoch  38 Batch    6/53   train_loss = 2.464\n",
      "Epoch  38 Batch   26/53   train_loss = 2.478\n",
      "Epoch  38 Batch   46/53   train_loss = 2.464\n",
      "Epoch  39 Batch   13/53   train_loss = 2.536\n",
      "Epoch  39 Batch   33/53   train_loss = 2.473\n",
      "Epoch  40 Batch    0/53   train_loss = 2.440\n",
      "Epoch  40 Batch   20/53   train_loss = 2.421\n",
      "Epoch  40 Batch   40/53   train_loss = 2.412\n",
      "Epoch  41 Batch    7/53   train_loss = 2.386\n",
      "Epoch  41 Batch   27/53   train_loss = 2.414\n",
      "Epoch  41 Batch   47/53   train_loss = 2.376\n",
      "Epoch  42 Batch   14/53   train_loss = 2.299\n",
      "Epoch  42 Batch   34/53   train_loss = 2.321\n",
      "Epoch  43 Batch    1/53   train_loss = 2.204\n",
      "Epoch  43 Batch   21/53   train_loss = 2.152\n",
      "Epoch  43 Batch   41/53   train_loss = 2.296\n",
      "Epoch  44 Batch    8/53   train_loss = 2.197\n",
      "Epoch  44 Batch   28/53   train_loss = 2.173\n",
      "Epoch  44 Batch   48/53   train_loss = 2.170\n",
      "Epoch  45 Batch   15/53   train_loss = 2.266\n",
      "Epoch  45 Batch   35/53   train_loss = 2.200\n",
      "Epoch  46 Batch    2/53   train_loss = 2.220\n",
      "Epoch  46 Batch   22/53   train_loss = 2.148\n",
      "Epoch  46 Batch   42/53   train_loss = 2.087\n",
      "Epoch  47 Batch    9/53   train_loss = 2.102\n",
      "Epoch  47 Batch   29/53   train_loss = 2.099\n",
      "Epoch  47 Batch   49/53   train_loss = 2.130\n",
      "Epoch  48 Batch   16/53   train_loss = 2.082\n",
      "Epoch  48 Batch   36/53   train_loss = 2.160\n",
      "Epoch  49 Batch    3/53   train_loss = 2.030\n",
      "Epoch  49 Batch   23/53   train_loss = 2.072\n",
      "Epoch  49 Batch   43/53   train_loss = 2.061\n",
      "Epoch  50 Batch   10/53   train_loss = 1.970\n",
      "Epoch  50 Batch   30/53   train_loss = 2.018\n",
      "Epoch  50 Batch   50/53   train_loss = 2.033\n",
      "Epoch  51 Batch   17/53   train_loss = 1.892\n",
      "Epoch  51 Batch   37/53   train_loss = 1.994\n",
      "Epoch  52 Batch    4/53   train_loss = 1.963\n",
      "Epoch  52 Batch   24/53   train_loss = 1.840\n",
      "Epoch  52 Batch   44/53   train_loss = 1.998\n",
      "Epoch  53 Batch   11/53   train_loss = 1.919\n",
      "Epoch  53 Batch   31/53   train_loss = 1.879\n",
      "Epoch  53 Batch   51/53   train_loss = 1.855\n",
      "Epoch  54 Batch   18/53   train_loss = 1.858\n",
      "Epoch  54 Batch   38/53   train_loss = 1.947\n",
      "Epoch  55 Batch    5/53   train_loss = 1.905\n",
      "Epoch  55 Batch   25/53   train_loss = 1.889\n",
      "Epoch  55 Batch   45/53   train_loss = 1.874\n",
      "Epoch  56 Batch   12/53   train_loss = 1.798\n",
      "Epoch  56 Batch   32/53   train_loss = 1.734\n",
      "Epoch  56 Batch   52/53   train_loss = 1.882\n",
      "Epoch  57 Batch   19/53   train_loss = 1.832\n",
      "Epoch  57 Batch   39/53   train_loss = 1.709\n",
      "Epoch  58 Batch    6/53   train_loss = 1.738\n",
      "Epoch  58 Batch   26/53   train_loss = 1.628\n",
      "Epoch  58 Batch   46/53   train_loss = 1.706\n",
      "Epoch  59 Batch   13/53   train_loss = 1.773\n",
      "Epoch  59 Batch   33/53   train_loss = 1.709\n",
      "Epoch  60 Batch    0/53   train_loss = 1.673\n",
      "Epoch  60 Batch   20/53   train_loss = 1.645\n",
      "Epoch  60 Batch   40/53   train_loss = 1.651\n",
      "Epoch  61 Batch    7/53   train_loss = 1.602\n",
      "Epoch  61 Batch   27/53   train_loss = 1.666\n",
      "Epoch  61 Batch   47/53   train_loss = 1.623\n",
      "Epoch  62 Batch   14/53   train_loss = 1.569\n",
      "Epoch  62 Batch   34/53   train_loss = 1.585\n",
      "Epoch  63 Batch    1/53   train_loss = 1.517\n",
      "Epoch  63 Batch   21/53   train_loss = 1.398\n",
      "Epoch  63 Batch   41/53   train_loss = 1.607\n",
      "Epoch  64 Batch    8/53   train_loss = 1.488\n",
      "Epoch  64 Batch   28/53   train_loss = 1.524\n",
      "Epoch  64 Batch   48/53   train_loss = 1.476\n",
      "Epoch  65 Batch   15/53   train_loss = 1.556\n",
      "Epoch  65 Batch   35/53   train_loss = 1.488\n",
      "Epoch  66 Batch    2/53   train_loss = 1.541\n",
      "Epoch  66 Batch   22/53   train_loss = 1.500\n",
      "Epoch  66 Batch   42/53   train_loss = 1.441\n",
      "Epoch  67 Batch    9/53   train_loss = 1.389\n",
      "Epoch  67 Batch   29/53   train_loss = 1.424\n",
      "Epoch  67 Batch   49/53   train_loss = 1.470\n",
      "Epoch  68 Batch   16/53   train_loss = 1.429\n",
      "Epoch  68 Batch   36/53   train_loss = 1.519\n",
      "Epoch  69 Batch    3/53   train_loss = 1.407\n",
      "Epoch  69 Batch   23/53   train_loss = 1.426\n",
      "Epoch  69 Batch   43/53   train_loss = 1.450\n",
      "Epoch  70 Batch   10/53   train_loss = 1.343\n",
      "Epoch  70 Batch   30/53   train_loss = 1.397\n",
      "Epoch  70 Batch   50/53   train_loss = 1.406\n",
      "Epoch  71 Batch   17/53   train_loss = 1.277\n",
      "Epoch  71 Batch   37/53   train_loss = 1.378\n",
      "Epoch  72 Batch    4/53   train_loss = 1.362\n",
      "Epoch  72 Batch   24/53   train_loss = 1.258\n",
      "Epoch  72 Batch   44/53   train_loss = 1.406\n",
      "Epoch  73 Batch   11/53   train_loss = 1.347\n",
      "Epoch  73 Batch   31/53   train_loss = 1.309\n",
      "Epoch  73 Batch   51/53   train_loss = 1.239\n",
      "Epoch  74 Batch   18/53   train_loss = 1.269\n",
      "Epoch  74 Batch   38/53   train_loss = 1.368\n",
      "Epoch  75 Batch    5/53   train_loss = 1.346\n",
      "Epoch  75 Batch   25/53   train_loss = 1.310\n",
      "Epoch  75 Batch   45/53   train_loss = 1.328\n",
      "Epoch  76 Batch   12/53   train_loss = 1.248\n",
      "Epoch  76 Batch   32/53   train_loss = 1.198\n",
      "Epoch  76 Batch   52/53   train_loss = 1.322\n",
      "Epoch  77 Batch   19/53   train_loss = 1.241\n",
      "Epoch  77 Batch   39/53   train_loss = 1.206\n",
      "Epoch  78 Batch    6/53   train_loss = 1.219\n",
      "Epoch  78 Batch   26/53   train_loss = 1.072\n",
      "Epoch  78 Batch   46/53   train_loss = 1.203\n",
      "Epoch  79 Batch   13/53   train_loss = 1.241\n",
      "Epoch  79 Batch   33/53   train_loss = 1.176\n",
      "Epoch  80 Batch    0/53   train_loss = 1.160\n",
      "Epoch  80 Batch   20/53   train_loss = 1.127\n",
      "Epoch  80 Batch   40/53   train_loss = 1.141\n",
      "Epoch  81 Batch    7/53   train_loss = 1.082\n",
      "Epoch  81 Batch   27/53   train_loss = 1.178\n",
      "Epoch  81 Batch   47/53   train_loss = 1.122\n",
      "Epoch  82 Batch   14/53   train_loss = 1.123\n",
      "Epoch  82 Batch   34/53   train_loss = 1.125\n",
      "Epoch  83 Batch    1/53   train_loss = 1.057\n",
      "Epoch  83 Batch   21/53   train_loss = 0.952\n",
      "Epoch  83 Batch   41/53   train_loss = 1.126\n",
      "Epoch  84 Batch    8/53   train_loss = 1.022\n",
      "Epoch  84 Batch   28/53   train_loss = 1.084\n",
      "Epoch  84 Batch   48/53   train_loss = 1.020\n",
      "Epoch  85 Batch   15/53   train_loss = 1.082\n",
      "Epoch  85 Batch   35/53   train_loss = 1.025\n",
      "Epoch  86 Batch    2/53   train_loss = 1.083\n",
      "Epoch  86 Batch   22/53   train_loss = 1.032\n",
      "Epoch  86 Batch   42/53   train_loss = 1.018\n",
      "Epoch  87 Batch    9/53   train_loss = 0.952\n",
      "Epoch  87 Batch   29/53   train_loss = 0.990\n",
      "Epoch  87 Batch   49/53   train_loss = 1.016\n",
      "Epoch  88 Batch   16/53   train_loss = 0.993\n",
      "Epoch  88 Batch   36/53   train_loss = 1.079\n",
      "Epoch  89 Batch    3/53   train_loss = 0.992\n",
      "Epoch  89 Batch   23/53   train_loss = 0.979\n",
      "Epoch  89 Batch   43/53   train_loss = 1.007\n",
      "Epoch  90 Batch   10/53   train_loss = 0.963\n",
      "Epoch  90 Batch   30/53   train_loss = 0.972\n",
      "Epoch  90 Batch   50/53   train_loss = 0.967\n",
      "Epoch  91 Batch   17/53   train_loss = 0.873\n",
      "Epoch  91 Batch   37/53   train_loss = 0.956\n",
      "Epoch  92 Batch    4/53   train_loss = 0.955\n",
      "Epoch  92 Batch   24/53   train_loss = 0.861\n",
      "Epoch  92 Batch   44/53   train_loss = 1.013\n",
      "Epoch  93 Batch   11/53   train_loss = 0.968\n",
      "Epoch  93 Batch   31/53   train_loss = 0.910\n",
      "Epoch  93 Batch   51/53   train_loss = 0.844\n",
      "Epoch  94 Batch   18/53   train_loss = 0.912\n",
      "Epoch  94 Batch   38/53   train_loss = 0.998\n",
      "Epoch  95 Batch    5/53   train_loss = 0.966\n",
      "Epoch  95 Batch   25/53   train_loss = 0.912\n",
      "Epoch  95 Batch   45/53   train_loss = 0.950\n",
      "Epoch  96 Batch   12/53   train_loss = 0.890\n",
      "Epoch  96 Batch   32/53   train_loss = 0.844\n",
      "Epoch  96 Batch   52/53   train_loss = 0.935\n",
      "Epoch  97 Batch   19/53   train_loss = 0.864\n",
      "Epoch  97 Batch   39/53   train_loss = 0.854\n",
      "Epoch  98 Batch    6/53   train_loss = 0.845\n",
      "Epoch  98 Batch   26/53   train_loss = 0.733\n",
      "Epoch  98 Batch   46/53   train_loss = 0.868\n",
      "Epoch  99 Batch   13/53   train_loss = 0.868\n",
      "Epoch  99 Batch   33/53   train_loss = 0.837\n",
      "Model Trained and Saved\n"
     ]
    }
   ],
   "source": [
    "\"\"\"\n",
    "DON'T MODIFY ANYTHING IN THIS CELL\n",
    "\"\"\"\n",
    "batches = get_batches(int_text, batch_size, seq_length)\n",
    "\n",
    "with tf.Session(graph=train_graph) as sess:\n",
    "    sess.run(tf.global_variables_initializer())\n",
    "\n",
    "    for epoch_i in range(num_epochs):\n",
    "        state = sess.run(initial_state, {input_text: batches[0][0]})\n",
    "\n",
    "        for batch_i, (x, y) in enumerate(batches):\n",
    "            feed = {\n",
    "                input_text: x,\n",
    "                targets: y,\n",
    "                initial_state: state,\n",
    "                lr: learning_rate}\n",
    "            train_loss, state, _ = sess.run([cost, final_state, train_op], feed)\n",
    "\n",
    "            # Show every <show_every_n_batches> batches\n",
    "            if (epoch_i * len(batches) + batch_i) % show_every_n_batches == 0:\n",
    "                print('Epoch {:>3} Batch {:>4}/{}   train_loss = {:.3f}'.format(\n",
    "                    epoch_i,\n",
    "                    batch_i,\n",
    "                    len(batches),\n",
    "                    train_loss))\n",
    "\n",
    "    # Save Model\n",
    "    saver = tf.train.Saver()\n",
    "    saver.save(sess, save_dir)\n",
    "    print('Model Trained and Saved')"
   ]
  },
  {
   "cell_type": "markdown",
   "metadata": {},
   "source": [
    "## Save Parameters\n",
    "Save `seq_length` and `save_dir` for generating a new TV script."
   ]
  },
  {
   "cell_type": "code",
   "execution_count": 17,
   "metadata": {
    "collapsed": true
   },
   "outputs": [],
   "source": [
    "\"\"\"\n",
    "DON'T MODIFY ANYTHING IN THIS CELL\n",
    "\"\"\"\n",
    "# Save parameters for checkpoint\n",
    "helper.save_params((seq_length, save_dir))"
   ]
  },
  {
   "cell_type": "markdown",
   "metadata": {},
   "source": [
    "# Checkpoint"
   ]
  },
  {
   "cell_type": "code",
   "execution_count": 18,
   "metadata": {
    "collapsed": true
   },
   "outputs": [],
   "source": [
    "\"\"\"\n",
    "DON'T MODIFY ANYTHING IN THIS CELL\n",
    "\"\"\"\n",
    "import tensorflow as tf\n",
    "import numpy as np\n",
    "import helper\n",
    "import problem_unittests as tests\n",
    "\n",
    "_, vocab_to_int, int_to_vocab, token_dict = helper.load_preprocess()\n",
    "seq_length, load_dir = helper.load_params()"
   ]
  },
  {
   "cell_type": "markdown",
   "metadata": {},
   "source": [
    "## Implement Generate Functions\n",
    "### Get Tensors\n",
    "Get tensors from `loaded_graph` using the function [`get_tensor_by_name()`](https://www.tensorflow.org/api_docs/python/tf/Graph#get_tensor_by_name).  Get the tensors using the following names:\n",
    "- \"input:0\"\n",
    "- \"initial_state:0\"\n",
    "- \"final_state:0\"\n",
    "- \"probs:0\"\n",
    "\n",
    "Return the tensors in the following tuple `(InputTensor, InitialStateTensor, FinalStateTensor, ProbsTensor)` "
   ]
  },
  {
   "cell_type": "code",
   "execution_count": 19,
   "metadata": {
    "collapsed": false
   },
   "outputs": [
    {
     "name": "stdout",
     "output_type": "stream",
     "text": [
      "Tests Passed\n"
     ]
    }
   ],
   "source": [
    "def get_tensors(loaded_graph):\n",
    "    \"\"\"\n",
    "    Get input, initial state, final state, and probabilities tensor from <loaded_graph>\n",
    "    :param loaded_graph: TensorFlow graph loaded from file\n",
    "    :return: Tuple (InputTensor, InitialStateTensor, FinalStateTensor, ProbsTensor)\n",
    "    \"\"\"\n",
    "    inputTensor = loaded_graph.get_tensor_by_name(\"input:0\")\n",
    "    InitialStateTensor=loaded_graph.get_tensor_by_name(\"initial_state:0\")\n",
    "    FinalStateTensor=loaded_graph.get_tensor_by_name(\"final_state:0\")\n",
    "    ProbsTensor=loaded_graph.get_tensor_by_name(\"probs:0\")\n",
    "    # TODO: Implement Function\n",
    "    return (inputTensor, InitialStateTensor, FinalStateTensor, ProbsTensor)\n",
    "\n",
    "\n",
    "\"\"\"\n",
    "DON'T MODIFY ANYTHING IN THIS CELL THAT IS BELOW THIS LINE\n",
    "\"\"\"\n",
    "tests.test_get_tensors(get_tensors)"
   ]
  },
  {
   "cell_type": "markdown",
   "metadata": {},
   "source": [
    "### Choose Word\n",
    "Implement the `pick_word()` function to select the next word using `probabilities`."
   ]
  },
  {
   "cell_type": "code",
   "execution_count": 20,
   "metadata": {
    "collapsed": false
   },
   "outputs": [
    {
     "name": "stdout",
     "output_type": "stream",
     "text": [
      "Tests Passed\n"
     ]
    }
   ],
   "source": [
    "def pick_word(probabilities, int_to_vocab):\n",
    "    \"\"\"\n",
    "    Pick the next word in the generated text\n",
    "    :param probabilities: Probabilites of the next word\n",
    "    :param int_to_vocab: Dictionary of word ids as the keys and words as the values\n",
    "    :return: String of the predicted word\n",
    "    \"\"\"\n",
    "    word = np.random.choice(list(int_to_vocab.values()), p=probabilities)\n",
    "    # TODO: Implement Function\n",
    "    return word\n",
    "\n",
    "\n",
    "\"\"\"\n",
    "DON'T MODIFY ANYTHING IN THIS CELL THAT IS BELOW THIS LINE\n",
    "\"\"\"\n",
    "tests.test_pick_word(pick_word)"
   ]
  },
  {
   "cell_type": "markdown",
   "metadata": {},
   "source": [
    "## Generate TV Script\n",
    "This will generate the TV script for you.  Set `gen_length` to the length of TV script you want to generate."
   ]
  },
  {
   "cell_type": "code",
   "execution_count": 21,
   "metadata": {
    "collapsed": false
   },
   "outputs": [
    {
     "name": "stdout",
     "output_type": "stream",
     "text": [
      "INFO:tensorflow:Restoring parameters from ./save\n",
      "moe_szyslak: oh, it's just that straight.\n",
      "homer_simpson: guys did that if you call it\"? no, and i can follow these world 'cause you're not alone... what have?\n",
      "homer_simpson: well, uh... hyahh!!!\n",
      "homer_simpson:(groans) feels carl.\n",
      "moe_szyslak:(cutting him off) too!(quickly) yeah, yeah.\n",
      "homer_simpson: eight, it's christmas!\n",
      "homer_simpson: going touched hey watch, the world's dumbest!(did) and you. last time the beauty part you'll see his bow /(nervous chuckle) i'm gonna be mad at you up to show a beer.\n",
      "homer_simpson:(meaningful sotto) all i can't sell one lousy applicant.\n",
      "homer_simpson:(singing) why did i ever find out who only got plenty of their mansions.\n",
      "c. _montgomery_burns: smithers, jacques.\n",
      "homer_simpson:(philosophic) eh, a little softer.(uncomfortable voice) aw, that's right. i wanna come?(to go bar) uh, moe's tavern. homer's like it's\n"
     ]
    }
   ],
   "source": [
    "gen_length = 200\n",
    "# homer_simpson, moe_szyslak, or Barney_Gumble\n",
    "prime_word = 'moe_szyslak'\n",
    "\n",
    "\"\"\"\n",
    "DON'T MODIFY ANYTHING IN THIS CELL THAT IS BELOW THIS LINE\n",
    "\"\"\"\n",
    "loaded_graph = tf.Graph()\n",
    "with tf.Session(graph=loaded_graph) as sess:\n",
    "    # Load saved model\n",
    "    loader = tf.train.import_meta_graph(load_dir + '.meta')\n",
    "    loader.restore(sess, load_dir)\n",
    "\n",
    "    # Get Tensors from loaded model\n",
    "    input_text, initial_state, final_state, probs = get_tensors(loaded_graph)\n",
    "\n",
    "    # Sentences generation setup\n",
    "    gen_sentences = [prime_word + ':']\n",
    "    prev_state = sess.run(initial_state, {input_text: np.array([[1]])})\n",
    "\n",
    "    # Generate sentences\n",
    "    for n in range(gen_length):\n",
    "        # Dynamic Input\n",
    "        dyn_input = [[vocab_to_int[word] for word in gen_sentences[-seq_length:]]]\n",
    "        dyn_seq_length = len(dyn_input[0])\n",
    "\n",
    "        # Get Prediction\n",
    "        probabilities, prev_state = sess.run(\n",
    "            [probs, final_state],\n",
    "            {input_text: dyn_input, initial_state: prev_state})\n",
    "        \n",
    "        pred_word = pick_word(probabilities[dyn_seq_length-1], int_to_vocab)\n",
    "\n",
    "        gen_sentences.append(pred_word)\n",
    "    \n",
    "    # Remove tokens\n",
    "    tv_script = ' '.join(gen_sentences)\n",
    "    for key, token in token_dict.items():\n",
    "        ending = ' ' if key in ['\\n', '(', '\"'] else ''\n",
    "        tv_script = tv_script.replace(' ' + token.lower(), key)\n",
    "    tv_script = tv_script.replace('\\n ', '\\n')\n",
    "    tv_script = tv_script.replace('( ', '(')\n",
    "        \n",
    "    print(tv_script)"
   ]
  },
  {
   "cell_type": "markdown",
   "metadata": {},
   "source": [
    "# The TV Script is Nonsensical\n",
    "It's ok if the TV script doesn't make any sense.  We trained on less than a megabyte of text.  In order to get good results, you'll have to use a smaller vocabulary or get more data.  Luckily there's more data!  As we mentioned in the beggining of this project, this is a subset of [another dataset](https://www.kaggle.com/wcukierski/the-simpsons-by-the-data).  We didn't have you train on all the data, because that would take too long.  However, you are free to train your neural network on all the data.  After you complete the project, of course.\n",
    "# Submitting This Project\n",
    "When submitting this project, make sure to run all the cells before saving the notebook. Save the notebook file as \"dlnd_tv_script_generation.ipynb\" and save it as a HTML file under \"File\" -> \"Download as\". Include the \"helper.py\" and \"problem_unittests.py\" files in your submission."
   ]
  }
 ],
 "metadata": {
  "kernelspec": {
   "display_name": "Python [default]",
   "language": "python",
   "name": "python3"
  },
  "language_info": {
   "codemirror_mode": {
    "name": "ipython",
    "version": 3
   },
   "file_extension": ".py",
   "mimetype": "text/x-python",
   "name": "python",
   "nbconvert_exporter": "python",
   "pygments_lexer": "ipython3",
   "version": "3.6.4"
  }
 },
 "nbformat": 4,
 "nbformat_minor": 1
}
